{
 "cells": [
  {
   "cell_type": "code",
   "execution_count": 3,
   "metadata": {},
   "outputs": [],
   "source": [
    "# !pip install naptha-sdk"
   ]
  },
  {
   "cell_type": "code",
   "execution_count": null,
   "metadata": {},
   "outputs": [],
   "source": [
    "import uuid\n",
    "from naptha_sdk.client.node import Node\n",
    "from naptha_sdk.schemas import AgentRunInput, AgentDeployment, OrchestratorDeployment, OrchestratorRunInput"
   ]
  },
  {
   "cell_type": "code",
   "execution_count": 5,
   "metadata": {},
   "outputs": [],
   "source": [
    "node = Node(node_url=\"http://node1.naptha.ai:7001\")\n",
    "\n",
    "user_id = str(uuid.uuid4())"
   ]
  },
  {
   "cell_type": "code",
   "execution_count": null,
   "metadata": {},
   "outputs": [],
   "source": [
    "user = await node.register_user({\"public_key\": user_id})\n",
    "print(user)"
   ]
  },
  {
   "cell_type": "code",
   "execution_count": null,
   "metadata": {},
   "outputs": [],
   "source": [
    "user_id = user[\"id\"]\n",
    "user_id"
   ]
  },
  {
   "cell_type": "markdown",
   "metadata": {},
   "source": [
    "#### Running single agent"
   ]
  },
  {
   "cell_type": "code",
   "execution_count": null,
   "metadata": {},
   "outputs": [],
   "source": [
    "agent_run_input = AgentRunInput(\n",
    "    consumer_id=user_id,\n",
    "    name=\"hello_world_agent\",\n",
    "    agent_deployment=AgentDeployment(\n",
    "        name=\"hello_world_agent\",\n",
    "        module={\n",
    "            \"name\": \"hello_world_agent\",\n",
    "        },\n",
    "    ),\n",
    "    inputs={\n",
    "        \"firstname\": \"John\",\n",
    "        \"surname\": \"Doe\",\n",
    "    }\n",
    ")\n",
    "\n",
    "result = await node.run_agent_and_poll(agent_run_input)"
   ]
  },
  {
   "cell_type": "markdown",
   "metadata": {},
   "source": [
    "#### Running multiagent_chat"
   ]
  },
  {
   "cell_type": "code",
   "execution_count": null,
   "metadata": {},
   "outputs": [],
   "source": [
    "orchestrator_run_input = OrchestratorRunInput(\n",
    "    consumer_id=user_id,\n",
    "    orchestrator_deployment=OrchestratorDeployment(\n",
    "        name=\"multiagent_chat\",\n",
    "        module={\n",
    "            \"name\": \"multiagent_chat\",\n",
    "        },\n",
    "        agent_deployments=[{\n",
    "            \"worker_node_url\": \"ws://localhost:7002\",\n",
    "        },\n",
    "        {\n",
    "            \"worker_node_url\": \"ws://localhost:7002\",\n",
    "        }\n",
    "        ],\n",
    "        environment_deployments=[{\n",
    "            \"environment_node_url\": \"http://localhost:7001\",\n",
    "        }],\n",
    "    ),\n",
    "    inputs={\n",
    "        \"prompt\": \"Count to 20, one at a time. I will start. one\"\n",
    "    }\n",
    ")\n",
    "\n",
    "result = await node.run_orchestrator_and_poll(orchestrator_run_input)\n",
    "result"
   ]
  },
  {
   "cell_type": "code",
   "execution_count": null,
   "metadata": {},
   "outputs": [],
   "source": []
  }
 ],
 "metadata": {
  "kernelspec": {
   "display_name": "Python 3",
   "language": "python",
   "name": "python3"
  },
  "language_info": {
   "codemirror_mode": {
    "name": "ipython",
    "version": 3
   },
   "file_extension": ".py",
   "mimetype": "text/x-python",
   "name": "python",
   "nbconvert_exporter": "python",
   "pygments_lexer": "ipython3",
   "version": "3.12.5"
  }
 },
 "nbformat": 4,
 "nbformat_minor": 2
}
